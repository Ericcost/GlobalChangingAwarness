{
 "cells": [
  {
   "cell_type": "code",
   "execution_count": 2,
   "id": "14b7a757-dc55-4016-b226-f6ffc08bf98c",
   "metadata": {
    "ExecuteTime": {
     "end_time": "2024-03-07T08:43:59.535074Z",
     "start_time": "2024-03-07T08:43:57.618311Z"
    }
   },
   "outputs": [],
   "source": [
    "import pandas as pd\n",
    "import numpy as np\n",
    "import matplotlib.pyplot as plt\n",
    "from ipywidgets import interact, Dropdown"
   ]
  },
  {
   "cell_type": "markdown",
   "id": "0ce78c60-a6ce-423a-93be-ab75cb8966d2",
   "metadata": {},
   "source": [
    "# Annual Surface Temperature Change"
   ]
  },
  {
   "cell_type": "markdown",
   "source": [
    "## Exploration overview."
   ],
   "metadata": {
    "collapsed": false
   },
   "id": "d094e92557eadcca"
  },
  {
   "cell_type": "code",
   "execution_count": 3,
   "id": "30fc1475-eb69-4062-b747-e039733d289a",
   "metadata": {
    "ExecuteTime": {
     "end_time": "2024-03-07T08:43:59.574645Z",
     "start_time": "2024-03-07T08:43:59.536899Z"
    }
   },
   "outputs": [
    {
     "data": {
      "text/plain": "   ObjectId                       Country ISO2 ISO3  \\\n0         1  Afghanistan, Islamic Rep. of   AF  AFG   \n1         2                       Albania   AL  ALB   \n2         3                       Algeria   DZ  DZA   \n3         4                American Samoa   AS  ASM   \n4         5      Andorra, Principality of   AD  AND   \n\n                                           Indicator            Unit  \\\n0  Temperature change with respect to a baseline ...  Degree Celsius   \n1  Temperature change with respect to a baseline ...  Degree Celsius   \n2  Temperature change with respect to a baseline ...  Degree Celsius   \n3  Temperature change with respect to a baseline ...  Degree Celsius   \n4  Temperature change with respect to a baseline ...  Degree Celsius   \n\n                                              Source CTS_Code  \\\n0  Food and Agriculture Organization of the Unite...     ECCS   \n1  Food and Agriculture Organization of the Unite...     ECCS   \n2  Food and Agriculture Organization of the Unite...     ECCS   \n3  Food and Agriculture Organization of the Unite...     ECCS   \n4  Food and Agriculture Organization of the Unite...     ECCS   \n\n                     CTS_Name  \\\n0  Surface Temperature Change   \n1  Surface Temperature Change   \n2  Surface Temperature Change   \n3  Surface Temperature Change   \n4  Surface Temperature Change   \n\n                                 CTS_Full_Descriptor  ...  F2013  F2014  \\\n0  Environment, Climate Change, Climate Indicator...  ...  1.281  0.456   \n1  Environment, Climate Change, Climate Indicator...  ...  1.333  1.198   \n2  Environment, Climate Change, Climate Indicator...  ...  1.192  1.690   \n3  Environment, Climate Change, Climate Indicator...  ...  1.257  1.170   \n4  Environment, Climate Change, Climate Indicator...  ...  0.831  1.946   \n\n   F2015  F2016  F2017  F2018  F2019  F2020  F2021  F2022  \n0  1.093  1.555  1.540  1.544  0.910  0.498  1.327  2.012  \n1  1.569  1.464  1.121  2.028  1.675  1.498  1.536  1.518  \n2  1.121  1.757  1.512  1.210  1.115  1.926  2.330  1.688  \n3  1.009  1.539  1.435  1.189  1.539  1.430  1.268  1.256  \n4  1.690  1.990  1.925  1.919  1.964  2.562  1.533  3.243  \n\n[5 rows x 72 columns]",
      "text/html": "<div>\n<style scoped>\n    .dataframe tbody tr th:only-of-type {\n        vertical-align: middle;\n    }\n\n    .dataframe tbody tr th {\n        vertical-align: top;\n    }\n\n    .dataframe thead th {\n        text-align: right;\n    }\n</style>\n<table border=\"1\" class=\"dataframe\">\n  <thead>\n    <tr style=\"text-align: right;\">\n      <th></th>\n      <th>ObjectId</th>\n      <th>Country</th>\n      <th>ISO2</th>\n      <th>ISO3</th>\n      <th>Indicator</th>\n      <th>Unit</th>\n      <th>Source</th>\n      <th>CTS_Code</th>\n      <th>CTS_Name</th>\n      <th>CTS_Full_Descriptor</th>\n      <th>...</th>\n      <th>F2013</th>\n      <th>F2014</th>\n      <th>F2015</th>\n      <th>F2016</th>\n      <th>F2017</th>\n      <th>F2018</th>\n      <th>F2019</th>\n      <th>F2020</th>\n      <th>F2021</th>\n      <th>F2022</th>\n    </tr>\n  </thead>\n  <tbody>\n    <tr>\n      <th>0</th>\n      <td>1</td>\n      <td>Afghanistan, Islamic Rep. of</td>\n      <td>AF</td>\n      <td>AFG</td>\n      <td>Temperature change with respect to a baseline ...</td>\n      <td>Degree Celsius</td>\n      <td>Food and Agriculture Organization of the Unite...</td>\n      <td>ECCS</td>\n      <td>Surface Temperature Change</td>\n      <td>Environment, Climate Change, Climate Indicator...</td>\n      <td>...</td>\n      <td>1.281</td>\n      <td>0.456</td>\n      <td>1.093</td>\n      <td>1.555</td>\n      <td>1.540</td>\n      <td>1.544</td>\n      <td>0.910</td>\n      <td>0.498</td>\n      <td>1.327</td>\n      <td>2.012</td>\n    </tr>\n    <tr>\n      <th>1</th>\n      <td>2</td>\n      <td>Albania</td>\n      <td>AL</td>\n      <td>ALB</td>\n      <td>Temperature change with respect to a baseline ...</td>\n      <td>Degree Celsius</td>\n      <td>Food and Agriculture Organization of the Unite...</td>\n      <td>ECCS</td>\n      <td>Surface Temperature Change</td>\n      <td>Environment, Climate Change, Climate Indicator...</td>\n      <td>...</td>\n      <td>1.333</td>\n      <td>1.198</td>\n      <td>1.569</td>\n      <td>1.464</td>\n      <td>1.121</td>\n      <td>2.028</td>\n      <td>1.675</td>\n      <td>1.498</td>\n      <td>1.536</td>\n      <td>1.518</td>\n    </tr>\n    <tr>\n      <th>2</th>\n      <td>3</td>\n      <td>Algeria</td>\n      <td>DZ</td>\n      <td>DZA</td>\n      <td>Temperature change with respect to a baseline ...</td>\n      <td>Degree Celsius</td>\n      <td>Food and Agriculture Organization of the Unite...</td>\n      <td>ECCS</td>\n      <td>Surface Temperature Change</td>\n      <td>Environment, Climate Change, Climate Indicator...</td>\n      <td>...</td>\n      <td>1.192</td>\n      <td>1.690</td>\n      <td>1.121</td>\n      <td>1.757</td>\n      <td>1.512</td>\n      <td>1.210</td>\n      <td>1.115</td>\n      <td>1.926</td>\n      <td>2.330</td>\n      <td>1.688</td>\n    </tr>\n    <tr>\n      <th>3</th>\n      <td>4</td>\n      <td>American Samoa</td>\n      <td>AS</td>\n      <td>ASM</td>\n      <td>Temperature change with respect to a baseline ...</td>\n      <td>Degree Celsius</td>\n      <td>Food and Agriculture Organization of the Unite...</td>\n      <td>ECCS</td>\n      <td>Surface Temperature Change</td>\n      <td>Environment, Climate Change, Climate Indicator...</td>\n      <td>...</td>\n      <td>1.257</td>\n      <td>1.170</td>\n      <td>1.009</td>\n      <td>1.539</td>\n      <td>1.435</td>\n      <td>1.189</td>\n      <td>1.539</td>\n      <td>1.430</td>\n      <td>1.268</td>\n      <td>1.256</td>\n    </tr>\n    <tr>\n      <th>4</th>\n      <td>5</td>\n      <td>Andorra, Principality of</td>\n      <td>AD</td>\n      <td>AND</td>\n      <td>Temperature change with respect to a baseline ...</td>\n      <td>Degree Celsius</td>\n      <td>Food and Agriculture Organization of the Unite...</td>\n      <td>ECCS</td>\n      <td>Surface Temperature Change</td>\n      <td>Environment, Climate Change, Climate Indicator...</td>\n      <td>...</td>\n      <td>0.831</td>\n      <td>1.946</td>\n      <td>1.690</td>\n      <td>1.990</td>\n      <td>1.925</td>\n      <td>1.919</td>\n      <td>1.964</td>\n      <td>2.562</td>\n      <td>1.533</td>\n      <td>3.243</td>\n    </tr>\n  </tbody>\n</table>\n<p>5 rows × 72 columns</p>\n</div>"
     },
     "execution_count": 3,
     "metadata": {},
     "output_type": "execute_result"
    }
   ],
   "source": [
    "annual_surface_temperature_change_df = pd.read_csv('./Annual_Surface_Temperature_Change.csv')\n",
    "annual_surface_temperature_change_df.head()"
   ]
  },
  {
   "cell_type": "code",
   "execution_count": 4,
   "id": "7b439347-f7a4-436b-b8fe-daa2b8052088",
   "metadata": {
    "ExecuteTime": {
     "end_time": "2024-03-07T08:43:59.583470Z",
     "start_time": "2024-03-07T08:43:59.577339Z"
    }
   },
   "outputs": [
    {
     "data": {
      "text/plain": "(225, 72)"
     },
     "execution_count": 4,
     "metadata": {},
     "output_type": "execute_result"
    }
   ],
   "source": [
    "annual_surface_temperature_change_df.shape"
   ]
  },
  {
   "cell_type": "code",
   "execution_count": 5,
   "id": "3677f7e3-764e-47c0-b00d-0f11b61db7f5",
   "metadata": {
    "ExecuteTime": {
     "end_time": "2024-03-07T08:43:59.596331Z",
     "start_time": "2024-03-07T08:43:59.588606Z"
    }
   },
   "outputs": [
    {
     "data": {
      "text/plain": "Index(['ObjectId', 'Country', 'ISO2', 'ISO3', 'Indicator', 'Unit', 'Source',\n       'CTS_Code', 'CTS_Name', 'CTS_Full_Descriptor', 'F1961', 'F1962',\n       'F1963', 'F1964', 'F1965', 'F1966', 'F1967', 'F1968', 'F1969', 'F1970',\n       'F1971', 'F1972', 'F1973', 'F1974', 'F1975', 'F1976', 'F1977', 'F1978',\n       'F1979', 'F1980', 'F1981', 'F1982', 'F1983', 'F1984', 'F1985', 'F1986',\n       'F1987', 'F1988', 'F1989', 'F1990', 'F1991', 'F1992', 'F1993', 'F1994',\n       'F1995', 'F1996', 'F1997', 'F1998', 'F1999', 'F2000', 'F2001', 'F2002',\n       'F2003', 'F2004', 'F2005', 'F2006', 'F2007', 'F2008', 'F2009', 'F2010',\n       'F2011', 'F2012', 'F2013', 'F2014', 'F2015', 'F2016', 'F2017', 'F2018',\n       'F2019', 'F2020', 'F2021', 'F2022'],\n      dtype='object')"
     },
     "execution_count": 5,
     "metadata": {},
     "output_type": "execute_result"
    }
   ],
   "source": [
    "annual_surface_temperature_change_df.columns"
   ]
  },
  {
   "cell_type": "code",
   "execution_count": 6,
   "id": "19a4e23b-f9cf-4227-8b42-661271a8937e",
   "metadata": {
    "ExecuteTime": {
     "end_time": "2024-03-07T08:43:59.743124Z",
     "start_time": "2024-03-07T08:43:59.598732Z"
    }
   },
   "outputs": [
    {
     "data": {
      "text/plain": "       ObjectId   F1961   F1962   F1963   F1964   F1965   F1966   F1967  \\\ncount     225.0  188.00  189.00  188.00  188.00  188.00  192.00  191.00   \nmean      113.0    0.16   -0.01   -0.01   -0.07   -0.25    0.11   -0.11   \nstd        65.1    0.41    0.34    0.39    0.31    0.27    0.38    0.34   \nmin         1.0   -0.69   -0.91   -1.27   -0.88   -1.06   -1.80   -1.05   \n25%        57.0   -0.10   -0.16   -0.21   -0.24   -0.39   -0.04   -0.26   \n50%       113.0    0.06   -0.06   -0.00   -0.06   -0.23    0.10   -0.15   \n75%       169.0    0.32    0.11    0.23    0.13   -0.09    0.28    0.02   \nmax       225.0    1.89    1.00    1.20    1.10    0.86    1.15    1.13   \n\n        F1968   F1969  ...   F2013   F2014   F2015   F2016   F2017   F2018  \\\ncount  191.00  190.00  ...  216.00  216.00  216.00  213.00  214.00  213.00   \nmean    -0.20    0.16  ...    0.93    1.11    1.27    1.44    1.28    1.30   \nstd      0.27    0.31  ...    0.32    0.56    0.46    0.40    0.39    0.60   \nmin     -1.63   -0.90  ...    0.12   -0.09   -0.43    0.25    0.02    0.24   \n25%     -0.34   -0.01  ...    0.74    0.74    1.02    1.15    1.03    0.86   \n50%     -0.19    0.20  ...    0.90    0.99    1.22    1.45    1.28    1.12   \n75%     -0.07    0.35  ...    1.19    1.34    1.52    1.71    1.54    1.83   \nmax      0.48    0.94  ...    1.64    2.70    2.61    2.46    2.49    2.77   \n\n        F2019   F2020   F2021   F2022  \ncount  213.00  212.00  213.00  213.00  \nmean     1.44    1.55    1.34    1.38  \nstd      0.47    0.62    0.48    0.67  \nmin      0.05    0.23   -0.42   -1.30  \n25%      1.17    1.16    1.02    0.88  \n50%      1.41    1.48    1.33    1.32  \n75%      1.70    1.83    1.63    1.92  \nmax      2.69    3.69    2.68    3.24  \n\n[8 rows x 63 columns]",
      "text/html": "<div>\n<style scoped>\n    .dataframe tbody tr th:only-of-type {\n        vertical-align: middle;\n    }\n\n    .dataframe tbody tr th {\n        vertical-align: top;\n    }\n\n    .dataframe thead th {\n        text-align: right;\n    }\n</style>\n<table border=\"1\" class=\"dataframe\">\n  <thead>\n    <tr style=\"text-align: right;\">\n      <th></th>\n      <th>ObjectId</th>\n      <th>F1961</th>\n      <th>F1962</th>\n      <th>F1963</th>\n      <th>F1964</th>\n      <th>F1965</th>\n      <th>F1966</th>\n      <th>F1967</th>\n      <th>F1968</th>\n      <th>F1969</th>\n      <th>...</th>\n      <th>F2013</th>\n      <th>F2014</th>\n      <th>F2015</th>\n      <th>F2016</th>\n      <th>F2017</th>\n      <th>F2018</th>\n      <th>F2019</th>\n      <th>F2020</th>\n      <th>F2021</th>\n      <th>F2022</th>\n    </tr>\n  </thead>\n  <tbody>\n    <tr>\n      <th>count</th>\n      <td>225.0</td>\n      <td>188.00</td>\n      <td>189.00</td>\n      <td>188.00</td>\n      <td>188.00</td>\n      <td>188.00</td>\n      <td>192.00</td>\n      <td>191.00</td>\n      <td>191.00</td>\n      <td>190.00</td>\n      <td>...</td>\n      <td>216.00</td>\n      <td>216.00</td>\n      <td>216.00</td>\n      <td>213.00</td>\n      <td>214.00</td>\n      <td>213.00</td>\n      <td>213.00</td>\n      <td>212.00</td>\n      <td>213.00</td>\n      <td>213.00</td>\n    </tr>\n    <tr>\n      <th>mean</th>\n      <td>113.0</td>\n      <td>0.16</td>\n      <td>-0.01</td>\n      <td>-0.01</td>\n      <td>-0.07</td>\n      <td>-0.25</td>\n      <td>0.11</td>\n      <td>-0.11</td>\n      <td>-0.20</td>\n      <td>0.16</td>\n      <td>...</td>\n      <td>0.93</td>\n      <td>1.11</td>\n      <td>1.27</td>\n      <td>1.44</td>\n      <td>1.28</td>\n      <td>1.30</td>\n      <td>1.44</td>\n      <td>1.55</td>\n      <td>1.34</td>\n      <td>1.38</td>\n    </tr>\n    <tr>\n      <th>std</th>\n      <td>65.1</td>\n      <td>0.41</td>\n      <td>0.34</td>\n      <td>0.39</td>\n      <td>0.31</td>\n      <td>0.27</td>\n      <td>0.38</td>\n      <td>0.34</td>\n      <td>0.27</td>\n      <td>0.31</td>\n      <td>...</td>\n      <td>0.32</td>\n      <td>0.56</td>\n      <td>0.46</td>\n      <td>0.40</td>\n      <td>0.39</td>\n      <td>0.60</td>\n      <td>0.47</td>\n      <td>0.62</td>\n      <td>0.48</td>\n      <td>0.67</td>\n    </tr>\n    <tr>\n      <th>min</th>\n      <td>1.0</td>\n      <td>-0.69</td>\n      <td>-0.91</td>\n      <td>-1.27</td>\n      <td>-0.88</td>\n      <td>-1.06</td>\n      <td>-1.80</td>\n      <td>-1.05</td>\n      <td>-1.63</td>\n      <td>-0.90</td>\n      <td>...</td>\n      <td>0.12</td>\n      <td>-0.09</td>\n      <td>-0.43</td>\n      <td>0.25</td>\n      <td>0.02</td>\n      <td>0.24</td>\n      <td>0.05</td>\n      <td>0.23</td>\n      <td>-0.42</td>\n      <td>-1.30</td>\n    </tr>\n    <tr>\n      <th>25%</th>\n      <td>57.0</td>\n      <td>-0.10</td>\n      <td>-0.16</td>\n      <td>-0.21</td>\n      <td>-0.24</td>\n      <td>-0.39</td>\n      <td>-0.04</td>\n      <td>-0.26</td>\n      <td>-0.34</td>\n      <td>-0.01</td>\n      <td>...</td>\n      <td>0.74</td>\n      <td>0.74</td>\n      <td>1.02</td>\n      <td>1.15</td>\n      <td>1.03</td>\n      <td>0.86</td>\n      <td>1.17</td>\n      <td>1.16</td>\n      <td>1.02</td>\n      <td>0.88</td>\n    </tr>\n    <tr>\n      <th>50%</th>\n      <td>113.0</td>\n      <td>0.06</td>\n      <td>-0.06</td>\n      <td>-0.00</td>\n      <td>-0.06</td>\n      <td>-0.23</td>\n      <td>0.10</td>\n      <td>-0.15</td>\n      <td>-0.19</td>\n      <td>0.20</td>\n      <td>...</td>\n      <td>0.90</td>\n      <td>0.99</td>\n      <td>1.22</td>\n      <td>1.45</td>\n      <td>1.28</td>\n      <td>1.12</td>\n      <td>1.41</td>\n      <td>1.48</td>\n      <td>1.33</td>\n      <td>1.32</td>\n    </tr>\n    <tr>\n      <th>75%</th>\n      <td>169.0</td>\n      <td>0.32</td>\n      <td>0.11</td>\n      <td>0.23</td>\n      <td>0.13</td>\n      <td>-0.09</td>\n      <td>0.28</td>\n      <td>0.02</td>\n      <td>-0.07</td>\n      <td>0.35</td>\n      <td>...</td>\n      <td>1.19</td>\n      <td>1.34</td>\n      <td>1.52</td>\n      <td>1.71</td>\n      <td>1.54</td>\n      <td>1.83</td>\n      <td>1.70</td>\n      <td>1.83</td>\n      <td>1.63</td>\n      <td>1.92</td>\n    </tr>\n    <tr>\n      <th>max</th>\n      <td>225.0</td>\n      <td>1.89</td>\n      <td>1.00</td>\n      <td>1.20</td>\n      <td>1.10</td>\n      <td>0.86</td>\n      <td>1.15</td>\n      <td>1.13</td>\n      <td>0.48</td>\n      <td>0.94</td>\n      <td>...</td>\n      <td>1.64</td>\n      <td>2.70</td>\n      <td>2.61</td>\n      <td>2.46</td>\n      <td>2.49</td>\n      <td>2.77</td>\n      <td>2.69</td>\n      <td>3.69</td>\n      <td>2.68</td>\n      <td>3.24</td>\n    </tr>\n  </tbody>\n</table>\n<p>8 rows × 63 columns</p>\n</div>"
     },
     "execution_count": 6,
     "metadata": {},
     "output_type": "execute_result"
    }
   ],
   "source": [
    "annual_surface_temperature_change_df.describe().round(2)"
   ]
  },
  {
   "cell_type": "markdown",
   "source": [
    "It seems that we have several empty cells (null or blank)"
   ],
   "metadata": {
    "collapsed": false
   },
   "id": "91b523d16f8ea330"
  },
  {
   "cell_type": "markdown",
   "source": [
    "## Create a plot to see the evolution of the Annual Surface Temperature Change (ASTC) over the globe."
   ],
   "metadata": {
    "collapsed": false
   },
   "id": "a404e4f776bf9ffe"
  },
  {
   "cell_type": "markdown",
   "source": [
    "First, we filter ou dataframe and retrieve each year."
   ],
   "metadata": {
    "collapsed": false
   },
   "id": "95f1f9e358748fdc"
  },
  {
   "cell_type": "code",
   "outputs": [],
   "source": [
    "#We set Country as the index of our dataframe subset \n",
    "annual_surface_temperature_change_df_subset = annual_surface_temperature_change_df.set_index('Country')[['F1961', 'F1962',\n",
    "       'F1963', 'F1964', 'F1965', 'F1966', 'F1967', 'F1968', 'F1969', 'F1970',\n",
    "       'F1971', 'F1972', 'F1973', 'F1974', 'F1975', 'F1976', 'F1977', 'F1978',\n",
    "       'F1979', 'F1980', 'F1981', 'F1982', 'F1983', 'F1984', 'F1985', 'F1986',\n",
    "       'F1987', 'F1988', 'F1989', 'F1990', 'F1991', 'F1992', 'F1993', 'F1994',\n",
    "       'F1995', 'F1996', 'F1997', 'F1998', 'F1999', 'F2000', 'F2001', 'F2002',\n",
    "       'F2003', 'F2004', 'F2005', 'F2006', 'F2007', 'F2008', 'F2009', 'F2010',\n",
    "       'F2011', 'F2012', 'F2013', 'F2014', 'F2015', 'F2016', 'F2017', 'F2018',\n",
    "       'F2019', 'F2020', 'F2021', 'F2022']]\n"
   ],
   "metadata": {
    "collapsed": false,
    "ExecuteTime": {
     "end_time": "2024-03-07T10:05:42.435664Z",
     "start_time": "2024-03-07T10:05:42.429232Z"
    }
   },
   "id": "e9588f52f43d29a6",
   "execution_count": 52
  },
  {
   "cell_type": "code",
   "outputs": [
    {
     "data": {
      "text/plain": "F1961    0.163053\nF1962   -0.013476\nF1963   -0.006043\nF1964   -0.070059\nF1965   -0.247027\n           ...   \nF2018    1.302113\nF2019    1.443061\nF2020    1.552038\nF2021    1.343531\nF2022    1.382113\nLength: 62, dtype: float64"
     },
     "execution_count": 55,
     "metadata": {},
     "output_type": "execute_result"
    }
   ],
   "source": [
    "#To a better understanding and display of the dataframe we transposes rows and columns\n",
    "annual_surface_temperature_change_df_subset = annual_surface_temperature_change_df_subset.T\n",
    "\n",
    "#We calculate the mean of the ASTC\n",
    "mean_per_year = annual_surface_temperature_change_df_subset.mean(axis=1)\n",
    "mean_per_year"
   ],
   "metadata": {
    "collapsed": false,
    "ExecuteTime": {
     "end_time": "2024-03-07T10:06:53.640568Z",
     "start_time": "2024-03-07T10:06:53.632870Z"
    }
   },
   "id": "a7a5923199d721",
   "execution_count": 55
  },
  {
   "cell_type": "code",
   "outputs": [],
   "source": [
    "def update_plot(country):\n",
    "    plt.figure(figsize=(10, 6))\n",
    "    plt.plot(annual_surface_temperature_change_df_subset.index, annual_surface_temperature_change_df_subset[country])\n",
    "    plt.xlabel('Year')\n",
    "    plt.ylabel('Value')\n",
    "    plt.title(f'Value by Year for {country}')\n",
    "    plt.xticks(rotation=90)  # Rotate x-axis labels vertically\n",
    "    plt.show()"
   ],
   "metadata": {
    "collapsed": false,
    "ExecuteTime": {
     "end_time": "2024-03-07T10:06:56.006040Z",
     "start_time": "2024-03-07T10:06:56.001719Z"
    }
   },
   "id": "a97ef6f3b0dc6d94",
   "execution_count": 56
  },
  {
   "cell_type": "code",
   "outputs": [
    {
     "data": {
      "text/plain": "interactive(children=(Dropdown(description='Country', options=('Afghanistan, Islamic Rep. of', 'Albania', 'Alg…",
      "application/vnd.jupyter.widget-view+json": {
       "version_major": 2,
       "version_minor": 0,
       "model_id": "386b9437740c4c0eb8e5b8f245dd9759"
      }
     },
     "metadata": {},
     "output_type": "display_data"
    },
    {
     "data": {
      "text/plain": "<function __main__.update_plot(country)>"
     },
     "execution_count": 57,
     "metadata": {},
     "output_type": "execute_result"
    }
   ],
   "source": [
    "# Dropdown widget for selecting country\n",
    "country_dropdown = Dropdown(options=annual_surface_temperature_change_df_subset.columns, description='Country')\n",
    "\n",
    "# Interact function to update plot based on selected country\n",
    "interact(update_plot, country=country_dropdown)"
   ],
   "metadata": {
    "collapsed": false,
    "ExecuteTime": {
     "end_time": "2024-03-07T10:06:57.240671Z",
     "start_time": "2024-03-07T10:06:56.579287Z"
    }
   },
   "id": "a299c7099b7a6c13",
   "execution_count": 57
  },
  {
   "cell_type": "code",
   "outputs": [
    {
     "data": {
      "text/plain": "Country\nAfghanistan, Islamic Rep. of     0\nAlbania                          0\nAlgeria                          0\nAmerican Samoa                   3\nAndorra, Principality of         0\n                                ..\nWestern Sahara                   0\nWorld                            0\nYemen, Rep. of                  31\nZambia                           0\nZimbabwe                         0\nLength: 225, dtype: int64"
     },
     "execution_count": 48,
     "metadata": {},
     "output_type": "execute_result"
    }
   ],
   "source": [
    "blank_counts = annual_surface_temperature_change_df_subset.isnull().sum()\n",
    "blank_counts\n",
    "#sorted(blank_counts)"
   ],
   "metadata": {
    "collapsed": false,
    "ExecuteTime": {
     "end_time": "2024-03-07T09:57:46.401259Z",
     "start_time": "2024-03-07T09:57:46.394994Z"
    }
   },
   "id": "6c9bd4d528d0ed81",
   "execution_count": 48
  },
  {
   "cell_type": "markdown",
   "source": [
    "## Imputation techniques to fill empty cells"
   ],
   "metadata": {
    "collapsed": false
   },
   "id": "80c773c199f68e07"
  },
  {
   "cell_type": "code",
   "outputs": [],
   "source": [
    "We are gonna use KNN imputer technique for imputing missing values"
   ],
   "metadata": {
    "collapsed": false
   },
   "id": "1c6fb4f49b8cc5b"
  },
  {
   "cell_type": "code",
   "outputs": [],
   "source": [
    "from sklearn.impute import KNNImputer"
   ],
   "metadata": {
    "collapsed": false
   },
   "id": "db2e814fb2e728ac"
  },
  {
   "cell_type": "markdown",
   "source": [
    "We create a plot "
   ],
   "metadata": {
    "collapsed": false
   },
   "id": "a1c850d91663ee19"
  },
  {
   "cell_type": "code",
   "outputs": [
    {
     "data": {
      "text/plain": "<Figure size 1000x600 with 1 Axes>",
      "image/png": "[encoded data removed]"
     },
     "metadata": {},
     "output_type": "display_data"
    }
   ],
   "source": [
    "mean_per_year.plot(kind='bar', figsize=(10, 6), color='blue', alpha=0.7)\n",
    "\n",
    "plt.xlabel('Year')\n",
    "plt.ylabel('Mean Value of Change (°C)')\n",
    "plt.title('Mean Temperature Change per Year')\n",
    "plt.grid(True)\n",
    "plt.show()"
   ],
   "metadata": {
    "collapsed": false,
    "ExecuteTime": {
     "end_time": "2024-03-07T09:24:05.077977Z",
     "start_time": "2024-03-07T09:24:04.447928Z"
    }
   },
   "id": "8907174aa38f151d",
   "execution_count": 39
  },
  {
   "cell_type": "markdown",
   "source": [
    "This indicator presents the mean surface temperature change during the period 1961-2021, using temperatures between 1951 and 1980 as a baseline."
   ],
   "metadata": {
    "collapsed": false
   },
   "id": "b7619faf793782ab"
  },
  {
   "cell_type": "markdown",
   "id": "da8079cf-b418-41f9-b222-343883d02f5c",
   "metadata": {},
   "source": [
    "# Atmospheric CO2 Concentration"
   ]
  },
  {
   "cell_type": "code",
   "outputs": [
    {
     "data": {
      "text/plain": "   ObjectId Country  ISO2 ISO3  \\\n0         1   World   NaN  WLD   \n1         2   World   NaN  WLD   \n2         3   World   NaN  WLD   \n3         4   World   NaN  WLD   \n4         5   World   NaN  WLD   \n\n                                           Indicator               Unit  \\\n0  Monthly Atmospheric Carbon Dioxide Concentrations  Parts Per Million   \n1  Monthly Atmospheric Carbon Dioxide Concentrations  Parts Per Million   \n2  Monthly Atmospheric Carbon Dioxide Concentrations  Parts Per Million   \n3  Monthly Atmospheric Carbon Dioxide Concentrations  Parts Per Million   \n4  Monthly Atmospheric Carbon Dioxide Concentrations  Parts Per Million   \n\n                                              Source CTS_Code  \\\n0  Dr. Pieter Tans, National Oceanic and Atmosphe...     ECCA   \n1  Dr. Pieter Tans, National Oceanic and Atmosphe...     ECCA   \n2  Dr. Pieter Tans, National Oceanic and Atmosphe...     ECCA   \n3  Dr. Pieter Tans, National Oceanic and Atmosphe...     ECCA   \n4  Dr. Pieter Tans, National Oceanic and Atmosphe...     ECCA   \n\n                                    CTS_Name  \\\n0  Atmospheric Carbon Dioxide Concentrations   \n1  Atmospheric Carbon Dioxide Concentrations   \n2  Atmospheric Carbon Dioxide Concentrations   \n3  Atmospheric Carbon Dioxide Concentrations   \n4  Atmospheric Carbon Dioxide Concentrations   \n\n                                 CTS_Full_Descriptor     Date   Value  \n0  Environment, Climate Change, Climate and Weath...  1958M03  315.70  \n1  Environment, Climate Change, Climate and Weath...  1958M04  317.45  \n2  Environment, Climate Change, Climate and Weath...  1958M05  317.51  \n3  Environment, Climate Change, Climate and Weath...  1958M06  317.24  \n4  Environment, Climate Change, Climate and Weath...  1958M07  315.86  ",
      "text/html": "<div>\n<style scoped>\n    .dataframe tbody tr th:only-of-type {\n        vertical-align: middle;\n    }\n\n    .dataframe tbody tr th {\n        vertical-align: top;\n    }\n\n    .dataframe thead th {\n        text-align: right;\n    }\n</style>\n<table border=\"1\" class=\"dataframe\">\n  <thead>\n    <tr style=\"text-align: right;\">\n      <th></th>\n      <th>ObjectId</th>\n      <th>Country</th>\n      <th>ISO2</th>\n      <th>ISO3</th>\n      <th>Indicator</th>\n      <th>Unit</th>\n      <th>Source</th>\n      <th>CTS_Code</th>\n      <th>CTS_Name</th>\n      <th>CTS_Full_Descriptor</th>\n      <th>Date</th>\n      <th>Value</th>\n    </tr>\n  </thead>\n  <tbody>\n    <tr>\n      <th>0</th>\n      <td>1</td>\n      <td>World</td>\n      <td>NaN</td>\n      <td>WLD</td>\n      <td>Monthly Atmospheric Carbon Dioxide Concentrations</td>\n      <td>Parts Per Million</td>\n      <td>Dr. Pieter Tans, National Oceanic and Atmosphe...</td>\n      <td>ECCA</td>\n      <td>Atmospheric Carbon Dioxide Concentrations</td>\n      <td>Environment, Climate Change, Climate and Weath...</td>\n      <td>1958M03</td>\n      <td>315.70</td>\n    </tr>\n    <tr>\n      <th>1</th>\n      <td>2</td>\n      <td>World</td>\n      <td>NaN</td>\n      <td>WLD</td>\n      <td>Monthly Atmospheric Carbon Dioxide Concentrations</td>\n      <td>Parts Per Million</td>\n      <td>Dr. Pieter Tans, National Oceanic and Atmosphe...</td>\n      <td>ECCA</td>\n      <td>Atmospheric Carbon Dioxide Concentrations</td>\n      <td>Environment, Climate Change, Climate and Weath...</td>\n      <td>1958M04</td>\n      <td>317.45</td>\n    </tr>\n    <tr>\n      <th>2</th>\n      <td>3</td>\n      <td>World</td>\n      <td>NaN</td>\n      <td>WLD</td>\n      <td>Monthly Atmospheric Carbon Dioxide Concentrations</td>\n      <td>Parts Per Million</td>\n      <td>Dr. Pieter Tans, National Oceanic and Atmosphe...</td>\n      <td>ECCA</td>\n      <td>Atmospheric Carbon Dioxide Concentrations</td>\n      <td>Environment, Climate Change, Climate and Weath...</td>\n      <td>1958M05</td>\n      <td>317.51</td>\n    </tr>\n    <tr>\n      <th>3</th>\n      <td>4</td>\n      <td>World</td>\n      <td>NaN</td>\n      <td>WLD</td>\n      <td>Monthly Atmospheric Carbon Dioxide Concentrations</td>\n      <td>Parts Per Million</td>\n      <td>Dr. Pieter Tans, National Oceanic and Atmosphe...</td>\n      <td>ECCA</td>\n      <td>Atmospheric Carbon Dioxide Concentrations</td>\n      <td>Environment, Climate Change, Climate and Weath...</td>\n      <td>1958M06</td>\n      <td>317.24</td>\n    </tr>\n    <tr>\n      <th>4</th>\n      <td>5</td>\n      <td>World</td>\n      <td>NaN</td>\n      <td>WLD</td>\n      <td>Monthly Atmospheric Carbon Dioxide Concentrations</td>\n      <td>Parts Per Million</td>\n      <td>Dr. Pieter Tans, National Oceanic and Atmosphe...</td>\n      <td>ECCA</td>\n      <td>Atmospheric Carbon Dioxide Concentrations</td>\n      <td>Environment, Climate Change, Climate and Weath...</td>\n      <td>1958M07</td>\n      <td>315.86</td>\n    </tr>\n  </tbody>\n</table>\n</div>"
     },
     "execution_count": 11,
     "metadata": {},
     "output_type": "execute_result"
    }
   ],
   "source": [
    "atmospheric_CO2_Concentrations_df = pd.read_csv('./Atmospheric_CO2_Concentrations.csv')\n",
    "atmospheric_CO2_Concentrations_df.head()"
   ],
   "metadata": {
    "collapsed": false,
    "ExecuteTime": {
     "end_time": "2024-03-07T08:44:00.835912Z",
     "start_time": "2024-03-07T08:44:00.804247Z"
    }
   },
   "id": "da84c06733ce4263",
   "execution_count": 11
  },
  {
   "cell_type": "code",
   "outputs": [],
   "source": [],
   "metadata": {
    "collapsed": false,
    "ExecuteTime": {
     "end_time": "2024-03-07T08:44:00.840065Z",
     "start_time": "2024-03-07T08:44:00.837295Z"
    }
   },
   "id": "ee4b806ea3932c30",
   "execution_count": 11
  }
 ],
 "metadata": {
  "kernelspec": {
   "display_name": "Python 3 (ipykernel)",
   "language": "python",
   "name": "python3"
  },
  "language_info": {
   "codemirror_mode": {
    "name": "ipython",
    "version": 3
   },
   "file_extension": ".py",
   "mimetype": "text/x-python",
   "name": "python",
   "nbconvert_exporter": "python",
   "pygments_lexer": "ipython3",
   "version": "3.11.5"
  }
 },
 "nbformat": 4,
 "nbformat_minor": 5
}
