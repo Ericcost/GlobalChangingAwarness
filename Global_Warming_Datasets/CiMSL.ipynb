{
 "cells": [
  {
   "cell_type": "code",
   "execution_count": 50,
   "id": "initial_id",
   "metadata": {
    "collapsed": true,
    "ExecuteTime": {
     "end_time": "2024-03-26T13:06:45.777396Z",
     "start_time": "2024-03-26T13:06:45.774062Z"
    }
   },
   "outputs": [],
   "source": [
    "import pandas as pd\n",
    "import numpy as np\n",
    "import matplotlib.pyplot as plt\n",
    "import plotly.express as px\n",
    "import seaborn as sns\n",
    "from mod.unique_value import checking_unique_value"
   ]
  },
  {
   "cell_type": "markdown",
   "source": [
    "# Change in Mean Sea Levels"
   ],
   "metadata": {
    "collapsed": false
   },
   "id": "5ce3ee7b424d141c"
  },
  {
   "cell_type": "code",
   "outputs": [
    {
     "data": {
      "text/plain": "   ObjectId Country  ISO2 ISO3  \\\n0         1   World   NaN  WLD   \n1         2   World   NaN  WLD   \n2         3   World   NaN  WLD   \n3         4   World   NaN  WLD   \n4         5   World   NaN  WLD   \n\n                                           Indicator         Unit  \\\n0  Change in mean sea level: Sea level: TOPEX.Pos...  Millimeters   \n1  Change in mean sea level: Sea level: TOPEX.Pos...  Millimeters   \n2  Change in mean sea level: Sea level: TOPEX.Pos...  Millimeters   \n3  Change in mean sea level: Sea level: TOPEX.Pos...  Millimeters   \n4  Change in mean sea level: Sea level: TOPEX.Pos...  Millimeters   \n\n                                              Source CTS_Code  \\\n0  National Oceanic and Atmospheric Administratio...     ECCL   \n1  National Oceanic and Atmospheric Administratio...     ECCL   \n2  National Oceanic and Atmospheric Administratio...     ECCL   \n3  National Oceanic and Atmospheric Administratio...     ECCL   \n4  National Oceanic and Atmospheric Administratio...     ECCL   \n\n                   CTS_Name  \\\n0  Change in Mean Sea Level   \n1  Change in Mean Sea Level   \n2  Change in Mean Sea Level   \n3  Change in Mean Sea Level   \n4  Change in Mean Sea Level   \n\n                                 CTS_Full_Descriptor         Measure  \\\n0  Environment, Climate Change, Climate Indicator...     Andaman Sea   \n1  Environment, Climate Change, Climate Indicator...     Arabian Sea   \n2  Environment, Climate Change, Climate Indicator...  Atlantic Ocean   \n3  Environment, Climate Change, Climate Indicator...      Baltic Sea   \n4  Environment, Climate Change, Climate Indicator...      Bay Bengal   \n\n          Date   Value  \n0  D12/17/1992  -10.34  \n1  D12/17/1992  -18.46  \n2  D12/17/1992  -15.41  \n3  D12/17/1992  196.85  \n4  D12/17/1992    3.27  ",
      "text/html": "<div>\n<style scoped>\n    .dataframe tbody tr th:only-of-type {\n        vertical-align: middle;\n    }\n\n    .dataframe tbody tr th {\n        vertical-align: top;\n    }\n\n    .dataframe thead th {\n        text-align: right;\n    }\n</style>\n<table border=\"1\" class=\"dataframe\">\n  <thead>\n    <tr style=\"text-align: right;\">\n      <th></th>\n      <th>ObjectId</th>\n      <th>Country</th>\n      <th>ISO2</th>\n      <th>ISO3</th>\n      <th>Indicator</th>\n      <th>Unit</th>\n      <th>Source</th>\n      <th>CTS_Code</th>\n      <th>CTS_Name</th>\n      <th>CTS_Full_Descriptor</th>\n      <th>Measure</th>\n      <th>Date</th>\n      <th>Value</th>\n    </tr>\n  </thead>\n  <tbody>\n    <tr>\n      <th>0</th>\n      <td>1</td>\n      <td>World</td>\n      <td>NaN</td>\n      <td>WLD</td>\n      <td>Change in mean sea level: Sea level: TOPEX.Pos...</td>\n      <td>Millimeters</td>\n      <td>National Oceanic and Atmospheric Administratio...</td>\n      <td>ECCL</td>\n      <td>Change in Mean Sea Level</td>\n      <td>Environment, Climate Change, Climate Indicator...</td>\n      <td>Andaman Sea</td>\n      <td>D12/17/1992</td>\n      <td>-10.34</td>\n    </tr>\n    <tr>\n      <th>1</th>\n      <td>2</td>\n      <td>World</td>\n      <td>NaN</td>\n      <td>WLD</td>\n      <td>Change in mean sea level: Sea level: TOPEX.Pos...</td>\n      <td>Millimeters</td>\n      <td>National Oceanic and Atmospheric Administratio...</td>\n      <td>ECCL</td>\n      <td>Change in Mean Sea Level</td>\n      <td>Environment, Climate Change, Climate Indicator...</td>\n      <td>Arabian Sea</td>\n      <td>D12/17/1992</td>\n      <td>-18.46</td>\n    </tr>\n    <tr>\n      <th>2</th>\n      <td>3</td>\n      <td>World</td>\n      <td>NaN</td>\n      <td>WLD</td>\n      <td>Change in mean sea level: Sea level: TOPEX.Pos...</td>\n      <td>Millimeters</td>\n      <td>National Oceanic and Atmospheric Administratio...</td>\n      <td>ECCL</td>\n      <td>Change in Mean Sea Level</td>\n      <td>Environment, Climate Change, Climate Indicator...</td>\n      <td>Atlantic Ocean</td>\n      <td>D12/17/1992</td>\n      <td>-15.41</td>\n    </tr>\n    <tr>\n      <th>3</th>\n      <td>4</td>\n      <td>World</td>\n      <td>NaN</td>\n      <td>WLD</td>\n      <td>Change in mean sea level: Sea level: TOPEX.Pos...</td>\n      <td>Millimeters</td>\n      <td>National Oceanic and Atmospheric Administratio...</td>\n      <td>ECCL</td>\n      <td>Change in Mean Sea Level</td>\n      <td>Environment, Climate Change, Climate Indicator...</td>\n      <td>Baltic Sea</td>\n      <td>D12/17/1992</td>\n      <td>196.85</td>\n    </tr>\n    <tr>\n      <th>4</th>\n      <td>5</td>\n      <td>World</td>\n      <td>NaN</td>\n      <td>WLD</td>\n      <td>Change in mean sea level: Sea level: TOPEX.Pos...</td>\n      <td>Millimeters</td>\n      <td>National Oceanic and Atmospheric Administratio...</td>\n      <td>ECCL</td>\n      <td>Change in Mean Sea Level</td>\n      <td>Environment, Climate Change, Climate Indicator...</td>\n      <td>Bay Bengal</td>\n      <td>D12/17/1992</td>\n      <td>3.27</td>\n    </tr>\n  </tbody>\n</table>\n</div>"
     },
     "execution_count": 51,
     "metadata": {},
     "output_type": "execute_result"
    }
   ],
   "source": [
    "change_in_mean_sea_level_df = pd.read_csv('./Change_in_Mean_Sea_Levels.csv')\n",
    "change_in_mean_sea_level_df = pd.DataFrame(change_in_mean_sea_level_df)\n",
    "change_in_mean_sea_level_df.head()"
   ],
   "metadata": {
    "collapsed": false,
    "ExecuteTime": {
     "end_time": "2024-03-26T13:06:46.113999Z",
     "start_time": "2024-03-26T13:06:45.895216Z"
    }
   },
   "id": "7603323e946e904e",
   "execution_count": 51
  },
  {
   "cell_type": "code",
   "outputs": [
    {
     "data": {
      "text/plain": "Index(['ObjectId', 'Country', 'ISO2', 'ISO3', 'Indicator', 'Unit', 'Source',\n       'CTS_Code', 'CTS_Name', 'CTS_Full_Descriptor', 'Measure', 'Date',\n       'Value'],\n      dtype='object')"
     },
     "execution_count": 52,
     "metadata": {},
     "output_type": "execute_result"
    }
   ],
   "source": [
    "change_in_mean_sea_level_df.columns"
   ],
   "metadata": {
    "collapsed": false,
    "ExecuteTime": {
     "end_time": "2024-03-26T13:06:46.121586Z",
     "start_time": "2024-03-26T13:06:46.116682Z"
    }
   },
   "id": "5c339b8b19aa7ea2",
   "execution_count": 52
  },
  {
   "cell_type": "code",
   "outputs": [
    {
     "name": "stdout",
     "output_type": "stream",
     "text": [
      "<class 'pandas.core.frame.DataFrame'>\n",
      "RangeIndex: 35604 entries, 0 to 35603\n",
      "Data columns (total 13 columns):\n",
      " #   Column               Non-Null Count  Dtype  \n",
      "---  ------               --------------  -----  \n",
      " 0   ObjectId             35604 non-null  int64  \n",
      " 1   Country              35604 non-null  object \n",
      " 2   ISO2                 0 non-null      float64\n",
      " 3   ISO3                 35604 non-null  object \n",
      " 4   Indicator            35604 non-null  object \n",
      " 5   Unit                 35604 non-null  object \n",
      " 6   Source               35604 non-null  object \n",
      " 7   CTS_Code             35604 non-null  object \n",
      " 8   CTS_Name             35604 non-null  object \n",
      " 9   CTS_Full_Descriptor  35604 non-null  object \n",
      " 10  Measure              35604 non-null  object \n",
      " 11  Date                 35604 non-null  object \n",
      " 12  Value                35604 non-null  float64\n",
      "dtypes: float64(2), int64(1), object(10)\n",
      "memory usage: 3.5+ MB\n"
     ]
    }
   ],
   "source": [
    "change_in_mean_sea_level_df.info()"
   ],
   "metadata": {
    "collapsed": false,
    "ExecuteTime": {
     "end_time": "2024-03-26T13:06:46.149456Z",
     "start_time": "2024-03-26T13:06:46.123901Z"
    }
   },
   "id": "e78fafff95f21334",
   "execution_count": 53
  },
  {
   "cell_type": "code",
   "outputs": [
    {
     "data": {
      "text/plain": "       ObjectId  ISO2     Value\ncount  35604.00   0.0  35604.00\nmean   17802.50   NaN     25.98\nstd    10278.13   NaN     62.78\nmin        1.00   NaN   -401.85\n25%     8901.75   NaN     -8.55\n50%    17802.50   NaN     23.10\n75%    26703.25   NaN     58.48\nmax    35604.00   NaN    504.95",
      "text/html": "<div>\n<style scoped>\n    .dataframe tbody tr th:only-of-type {\n        vertical-align: middle;\n    }\n\n    .dataframe tbody tr th {\n        vertical-align: top;\n    }\n\n    .dataframe thead th {\n        text-align: right;\n    }\n</style>\n<table border=\"1\" class=\"dataframe\">\n  <thead>\n    <tr style=\"text-align: right;\">\n      <th></th>\n      <th>ObjectId</th>\n      <th>ISO2</th>\n      <th>Value</th>\n    </tr>\n  </thead>\n  <tbody>\n    <tr>\n      <th>count</th>\n      <td>35604.00</td>\n      <td>0.0</td>\n      <td>35604.00</td>\n    </tr>\n    <tr>\n      <th>mean</th>\n      <td>17802.50</td>\n      <td>NaN</td>\n      <td>25.98</td>\n    </tr>\n    <tr>\n      <th>std</th>\n      <td>10278.13</td>\n      <td>NaN</td>\n      <td>62.78</td>\n    </tr>\n    <tr>\n      <th>min</th>\n      <td>1.00</td>\n      <td>NaN</td>\n      <td>-401.85</td>\n    </tr>\n    <tr>\n      <th>25%</th>\n      <td>8901.75</td>\n      <td>NaN</td>\n      <td>-8.55</td>\n    </tr>\n    <tr>\n      <th>50%</th>\n      <td>17802.50</td>\n      <td>NaN</td>\n      <td>23.10</td>\n    </tr>\n    <tr>\n      <th>75%</th>\n      <td>26703.25</td>\n      <td>NaN</td>\n      <td>58.48</td>\n    </tr>\n    <tr>\n      <th>max</th>\n      <td>35604.00</td>\n      <td>NaN</td>\n      <td>504.95</td>\n    </tr>\n  </tbody>\n</table>\n</div>"
     },
     "execution_count": 54,
     "metadata": {},
     "output_type": "execute_result"
    }
   ],
   "source": [
    "change_in_mean_sea_level_df.describe().round(2)"
   ],
   "metadata": {
    "collapsed": false,
    "ExecuteTime": {
     "end_time": "2024-03-26T13:06:46.174610Z",
     "start_time": "2024-03-26T13:06:46.152542Z"
    }
   },
   "id": "5d99c507fb7e7ad3",
   "execution_count": 54
  },
  {
   "cell_type": "code",
   "outputs": [
    {
     "name": "stdout",
     "output_type": "stream",
     "text": [
      "Unique values in column 'ObjectId': 35604\n",
      "Unique values in column 'Country': 1\n",
      "Unique values in column 'ISO2': 0\n",
      "Unique values in column 'ISO3': 1\n",
      "Unique values in column 'Indicator': 5\n",
      "Unique values in column 'Unit': 1\n",
      "Unique values in column 'Source': 1\n",
      "Unique values in column 'CTS_Code': 1\n",
      "Unique values in column 'CTS_Name': 1\n",
      "Unique values in column 'CTS_Full_Descriptor': 1\n",
      "Unique values in column 'Measure': 25\n",
      "Unique values in column 'Date': 3653\n",
      "Unique values in column 'Value': 16831\n"
     ]
    }
   ],
   "source": [
    "checking_unique_value(change_in_mean_sea_level_df)"
   ],
   "metadata": {
    "collapsed": false,
    "ExecuteTime": {
     "end_time": "2024-03-26T13:06:46.219669Z",
     "start_time": "2024-03-26T13:06:46.176328Z"
    }
   },
   "id": "1dfdc20cd271ee10",
   "execution_count": 55
  },
  {
   "cell_type": "code",
   "outputs": [],
   "source": [
    "columns_to_drop = ['ObjectId', 'Country', 'ISO2', 'ISO3', 'Unit', 'Source', 'CTS_Code', 'CTS_Name', 'CTS_Full_Descriptor']\n",
    "df = change_in_mean_sea_level_df.drop(columns=columns_to_drop, axis='columns')"
   ],
   "metadata": {
    "collapsed": false,
    "ExecuteTime": {
     "end_time": "2024-03-26T13:06:46.227419Z",
     "start_time": "2024-03-26T13:06:46.221605Z"
    }
   },
   "id": "f5f9b0c4a7a76405",
   "execution_count": 56
  },
  {
   "cell_type": "code",
   "outputs": [
    {
     "data": {
      "text/plain": "                                           Indicator         Measure  \\\n0  Change in mean sea level: Sea level: TOPEX.Pos...     Andaman Sea   \n1  Change in mean sea level: Sea level: TOPEX.Pos...     Arabian Sea   \n2  Change in mean sea level: Sea level: TOPEX.Pos...  Atlantic Ocean   \n3  Change in mean sea level: Sea level: TOPEX.Pos...      Baltic Sea   \n4  Change in mean sea level: Sea level: TOPEX.Pos...      Bay Bengal   \n\n          Date   Value  \n0  D12/17/1992  -10.34  \n1  D12/17/1992  -18.46  \n2  D12/17/1992  -15.41  \n3  D12/17/1992  196.85  \n4  D12/17/1992    3.27  ",
      "text/html": "<div>\n<style scoped>\n    .dataframe tbody tr th:only-of-type {\n        vertical-align: middle;\n    }\n\n    .dataframe tbody tr th {\n        vertical-align: top;\n    }\n\n    .dataframe thead th {\n        text-align: right;\n    }\n</style>\n<table border=\"1\" class=\"dataframe\">\n  <thead>\n    <tr style=\"text-align: right;\">\n      <th></th>\n      <th>Indicator</th>\n      <th>Measure</th>\n      <th>Date</th>\n      <th>Value</th>\n    </tr>\n  </thead>\n  <tbody>\n    <tr>\n      <th>0</th>\n      <td>Change in mean sea level: Sea level: TOPEX.Pos...</td>\n      <td>Andaman Sea</td>\n      <td>D12/17/1992</td>\n      <td>-10.34</td>\n    </tr>\n    <tr>\n      <th>1</th>\n      <td>Change in mean sea level: Sea level: TOPEX.Pos...</td>\n      <td>Arabian Sea</td>\n      <td>D12/17/1992</td>\n      <td>-18.46</td>\n    </tr>\n    <tr>\n      <th>2</th>\n      <td>Change in mean sea level: Sea level: TOPEX.Pos...</td>\n      <td>Atlantic Ocean</td>\n      <td>D12/17/1992</td>\n      <td>-15.41</td>\n    </tr>\n    <tr>\n      <th>3</th>\n      <td>Change in mean sea level: Sea level: TOPEX.Pos...</td>\n      <td>Baltic Sea</td>\n      <td>D12/17/1992</td>\n      <td>196.85</td>\n    </tr>\n    <tr>\n      <th>4</th>\n      <td>Change in mean sea level: Sea level: TOPEX.Pos...</td>\n      <td>Bay Bengal</td>\n      <td>D12/17/1992</td>\n      <td>3.27</td>\n    </tr>\n  </tbody>\n</table>\n</div>"
     },
     "execution_count": 57,
     "metadata": {},
     "output_type": "execute_result"
    }
   ],
   "source": [
    "df.head()"
   ],
   "metadata": {
    "collapsed": false,
    "ExecuteTime": {
     "end_time": "2024-03-26T13:06:46.240505Z",
     "start_time": "2024-03-26T13:06:46.230014Z"
    }
   },
   "id": "b9f8dffd2296733b",
   "execution_count": 57
  },
  {
   "cell_type": "code",
   "outputs": [
    {
     "data": {
      "text/plain": "(35604, 4)"
     },
     "execution_count": 58,
     "metadata": {},
     "output_type": "execute_result"
    }
   ],
   "source": [
    "df['Date'] = df['Date'].apply(lambda x: x[1:])\n",
    "#df = df.groupby('Date')\n",
    "df.shape"
   ],
   "metadata": {
    "collapsed": false,
    "ExecuteTime": {
     "end_time": "2024-03-26T13:06:46.258657Z",
     "start_time": "2024-03-26T13:06:46.241907Z"
    }
   },
   "id": "b026c86cc3f21a80",
   "execution_count": 58
  },
  {
   "cell_type": "code",
   "outputs": [
    {
     "data": {
      "text/plain": "                                           Indicator         Measure  \\\n0  Change in mean sea level: Sea level: TOPEX.Pos...     Andaman Sea   \n1  Change in mean sea level: Sea level: TOPEX.Pos...     Arabian Sea   \n2  Change in mean sea level: Sea level: TOPEX.Pos...  Atlantic Ocean   \n3  Change in mean sea level: Sea level: TOPEX.Pos...      Baltic Sea   \n4  Change in mean sea level: Sea level: TOPEX.Pos...      Bay Bengal   \n\n         Date   Value  \n0  12/17/1992  -10.34  \n1  12/17/1992  -18.46  \n2  12/17/1992  -15.41  \n3  12/17/1992  196.85  \n4  12/17/1992    3.27  ",
      "text/html": "<div>\n<style scoped>\n    .dataframe tbody tr th:only-of-type {\n        vertical-align: middle;\n    }\n\n    .dataframe tbody tr th {\n        vertical-align: top;\n    }\n\n    .dataframe thead th {\n        text-align: right;\n    }\n</style>\n<table border=\"1\" class=\"dataframe\">\n  <thead>\n    <tr style=\"text-align: right;\">\n      <th></th>\n      <th>Indicator</th>\n      <th>Measure</th>\n      <th>Date</th>\n      <th>Value</th>\n    </tr>\n  </thead>\n  <tbody>\n    <tr>\n      <th>0</th>\n      <td>Change in mean sea level: Sea level: TOPEX.Pos...</td>\n      <td>Andaman Sea</td>\n      <td>12/17/1992</td>\n      <td>-10.34</td>\n    </tr>\n    <tr>\n      <th>1</th>\n      <td>Change in mean sea level: Sea level: TOPEX.Pos...</td>\n      <td>Arabian Sea</td>\n      <td>12/17/1992</td>\n      <td>-18.46</td>\n    </tr>\n    <tr>\n      <th>2</th>\n      <td>Change in mean sea level: Sea level: TOPEX.Pos...</td>\n      <td>Atlantic Ocean</td>\n      <td>12/17/1992</td>\n      <td>-15.41</td>\n    </tr>\n    <tr>\n      <th>3</th>\n      <td>Change in mean sea level: Sea level: TOPEX.Pos...</td>\n      <td>Baltic Sea</td>\n      <td>12/17/1992</td>\n      <td>196.85</td>\n    </tr>\n    <tr>\n      <th>4</th>\n      <td>Change in mean sea level: Sea level: TOPEX.Pos...</td>\n      <td>Bay Bengal</td>\n      <td>12/17/1992</td>\n      <td>3.27</td>\n    </tr>\n  </tbody>\n</table>\n</div>"
     },
     "execution_count": 59,
     "metadata": {},
     "output_type": "execute_result"
    }
   ],
   "source": [
    "df.head()"
   ],
   "metadata": {
    "collapsed": false,
    "ExecuteTime": {
     "end_time": "2024-03-26T13:06:46.272887Z",
     "start_time": "2024-03-26T13:06:46.260258Z"
    }
   },
   "id": "a4c215e643d32bc6",
   "execution_count": 59
  },
  {
   "cell_type": "code",
   "outputs": [],
   "source": [],
   "metadata": {
    "collapsed": false,
    "ExecuteTime": {
     "end_time": "2024-03-26T13:06:46.280839Z",
     "start_time": "2024-03-26T13:06:46.276451Z"
    }
   },
   "id": "3f6978e2ed7c690b",
   "execution_count": 59
  }
 ],
 "metadata": {
  "kernelspec": {
   "display_name": "Python 3",
   "language": "python",
   "name": "python3"
  },
  "language_info": {
   "codemirror_mode": {
    "name": "ipython",
    "version": 2
   },
   "file_extension": ".py",
   "mimetype": "text/x-python",
   "name": "python",
   "nbconvert_exporter": "python",
   "pygments_lexer": "ipython2",
   "version": "2.7.6"
  }
 },
 "nbformat": 4,
 "nbformat_minor": 5
}
