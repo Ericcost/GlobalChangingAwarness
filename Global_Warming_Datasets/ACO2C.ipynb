{
 "cells": [
  {
   "cell_type": "markdown",
   "id": "f7046ec0-ff59-4d29-99fb-59fd635143a9",
   "metadata": {},
   "source": [
    "# Atmospheric CO2 Concentration"
   ]
  },
  {
   "cell_type": "code",
   "execution_count": 6,
   "id": "194c1c7e-23dc-463d-9917-43a25e93923c",
   "metadata": {
    "ExecuteTime": {
     "end_time": "2024-03-08T10:48:48.354003Z",
     "start_time": "2024-03-08T10:48:48.348722Z"
    }
   },
   "outputs": [],
   "source": [
    "import pandas as pd\n",
    "import numpy as np\n",
    "import matplotlib.pyplot as plt\n",
    "import seaborn as sns\n",
    "from mod.unique_value import checking_unique_value"
   ]
  },
  {
   "cell_type": "code",
   "execution_count": 16,
   "id": "9c78f58f-4954-404d-9c37-01cf8cf5a34a",
   "metadata": {
    "ExecuteTime": {
     "end_time": "2024-03-08T10:59:08.931248Z",
     "start_time": "2024-03-08T10:59:08.895665Z"
    }
   },
   "outputs": [
    {
     "data": {
      "text/plain": "   ObjectId Country  ISO2 ISO3  \\\n0         1   World   NaN  WLD   \n1         2   World   NaN  WLD   \n2         3   World   NaN  WLD   \n3         4   World   NaN  WLD   \n4         5   World   NaN  WLD   \n\n                                           Indicator               Unit  \\\n0  Monthly Atmospheric Carbon Dioxide Concentrations  Parts Per Million   \n1  Monthly Atmospheric Carbon Dioxide Concentrations  Parts Per Million   \n2  Monthly Atmospheric Carbon Dioxide Concentrations  Parts Per Million   \n3  Monthly Atmospheric Carbon Dioxide Concentrations  Parts Per Million   \n4  Monthly Atmospheric Carbon Dioxide Concentrations  Parts Per Million   \n\n                                              Source CTS_Code  \\\n0  Dr. Pieter Tans, National Oceanic and Atmosphe...     ECCA   \n1  Dr. Pieter Tans, National Oceanic and Atmosphe...     ECCA   \n2  Dr. Pieter Tans, National Oceanic and Atmosphe...     ECCA   \n3  Dr. Pieter Tans, National Oceanic and Atmosphe...     ECCA   \n4  Dr. Pieter Tans, National Oceanic and Atmosphe...     ECCA   \n\n                                    CTS_Name  \\\n0  Atmospheric Carbon Dioxide Concentrations   \n1  Atmospheric Carbon Dioxide Concentrations   \n2  Atmospheric Carbon Dioxide Concentrations   \n3  Atmospheric Carbon Dioxide Concentrations   \n4  Atmospheric Carbon Dioxide Concentrations   \n\n                                 CTS_Full_Descriptor     Date   Value  \n0  Environment, Climate Change, Climate and Weath...  1958M03  315.70  \n1  Environment, Climate Change, Climate and Weath...  1958M04  317.45  \n2  Environment, Climate Change, Climate and Weath...  1958M05  317.51  \n3  Environment, Climate Change, Climate and Weath...  1958M06  317.24  \n4  Environment, Climate Change, Climate and Weath...  1958M07  315.86  ",
      "text/html": "<div>\n<style scoped>\n    .dataframe tbody tr th:only-of-type {\n        vertical-align: middle;\n    }\n\n    .dataframe tbody tr th {\n        vertical-align: top;\n    }\n\n    .dataframe thead th {\n        text-align: right;\n    }\n</style>\n<table border=\"1\" class=\"dataframe\">\n  <thead>\n    <tr style=\"text-align: right;\">\n      <th></th>\n      <th>ObjectId</th>\n      <th>Country</th>\n      <th>ISO2</th>\n      <th>ISO3</th>\n      <th>Indicator</th>\n      <th>Unit</th>\n      <th>Source</th>\n      <th>CTS_Code</th>\n      <th>CTS_Name</th>\n      <th>CTS_Full_Descriptor</th>\n      <th>Date</th>\n      <th>Value</th>\n    </tr>\n  </thead>\n  <tbody>\n    <tr>\n      <th>0</th>\n      <td>1</td>\n      <td>World</td>\n      <td>NaN</td>\n      <td>WLD</td>\n      <td>Monthly Atmospheric Carbon Dioxide Concentrations</td>\n      <td>Parts Per Million</td>\n      <td>Dr. Pieter Tans, National Oceanic and Atmosphe...</td>\n      <td>ECCA</td>\n      <td>Atmospheric Carbon Dioxide Concentrations</td>\n      <td>Environment, Climate Change, Climate and Weath...</td>\n      <td>1958M03</td>\n      <td>315.70</td>\n    </tr>\n    <tr>\n      <th>1</th>\n      <td>2</td>\n      <td>World</td>\n      <td>NaN</td>\n      <td>WLD</td>\n      <td>Monthly Atmospheric Carbon Dioxide Concentrations</td>\n      <td>Parts Per Million</td>\n      <td>Dr. Pieter Tans, National Oceanic and Atmosphe...</td>\n      <td>ECCA</td>\n      <td>Atmospheric Carbon Dioxide Concentrations</td>\n      <td>Environment, Climate Change, Climate and Weath...</td>\n      <td>1958M04</td>\n      <td>317.45</td>\n    </tr>\n    <tr>\n      <th>2</th>\n      <td>3</td>\n      <td>World</td>\n      <td>NaN</td>\n      <td>WLD</td>\n      <td>Monthly Atmospheric Carbon Dioxide Concentrations</td>\n      <td>Parts Per Million</td>\n      <td>Dr. Pieter Tans, National Oceanic and Atmosphe...</td>\n      <td>ECCA</td>\n      <td>Atmospheric Carbon Dioxide Concentrations</td>\n      <td>Environment, Climate Change, Climate and Weath...</td>\n      <td>1958M05</td>\n      <td>317.51</td>\n    </tr>\n    <tr>\n      <th>3</th>\n      <td>4</td>\n      <td>World</td>\n      <td>NaN</td>\n      <td>WLD</td>\n      <td>Monthly Atmospheric Carbon Dioxide Concentrations</td>\n      <td>Parts Per Million</td>\n      <td>Dr. Pieter Tans, National Oceanic and Atmosphe...</td>\n      <td>ECCA</td>\n      <td>Atmospheric Carbon Dioxide Concentrations</td>\n      <td>Environment, Climate Change, Climate and Weath...</td>\n      <td>1958M06</td>\n      <td>317.24</td>\n    </tr>\n    <tr>\n      <th>4</th>\n      <td>5</td>\n      <td>World</td>\n      <td>NaN</td>\n      <td>WLD</td>\n      <td>Monthly Atmospheric Carbon Dioxide Concentrations</td>\n      <td>Parts Per Million</td>\n      <td>Dr. Pieter Tans, National Oceanic and Atmosphe...</td>\n      <td>ECCA</td>\n      <td>Atmospheric Carbon Dioxide Concentrations</td>\n      <td>Environment, Climate Change, Climate and Weath...</td>\n      <td>1958M07</td>\n      <td>315.86</td>\n    </tr>\n  </tbody>\n</table>\n</div>"
     },
     "execution_count": 16,
     "metadata": {},
     "output_type": "execute_result"
    }
   ],
   "source": [
    "atmospheric_CO2_Concentrations_df = pd.read_csv('./Atmospheric_CO2_Concentrations.csv')\n",
    "atmospheric_CO2_Concentrations_df = pd.DataFrame(atmospheric_CO2_Concentrations_df)\n",
    "atmospheric_CO2_Concentrations_df.head()"
   ]
  },
  {
   "cell_type": "code",
   "execution_count": 17,
   "id": "a720a7d6-2863-4c11-98c2-7468a0294d22",
   "metadata": {
    "ExecuteTime": {
     "end_time": "2024-03-08T10:59:12.088228Z",
     "start_time": "2024-03-08T10:59:12.078869Z"
    }
   },
   "outputs": [
    {
     "name": "stdout",
     "output_type": "stream",
     "text": [
      "<class 'pandas.core.frame.DataFrame'>\n",
      "RangeIndex: 1570 entries, 0 to 1569\n",
      "Data columns (total 12 columns):\n",
      " #   Column               Non-Null Count  Dtype  \n",
      "---  ------               --------------  -----  \n",
      " 0   ObjectId             1570 non-null   int64  \n",
      " 1   Country              1570 non-null   object \n",
      " 2   ISO2                 0 non-null      float64\n",
      " 3   ISO3                 1570 non-null   object \n",
      " 4   Indicator            1570 non-null   object \n",
      " 5   Unit                 1570 non-null   object \n",
      " 6   Source               1570 non-null   object \n",
      " 7   CTS_Code             1570 non-null   object \n",
      " 8   CTS_Name             1570 non-null   object \n",
      " 9   CTS_Full_Descriptor  1570 non-null   object \n",
      " 10  Date                 1570 non-null   object \n",
      " 11  Value                1570 non-null   float64\n",
      "dtypes: float64(2), int64(1), object(9)\n",
      "memory usage: 147.3+ KB\n"
     ]
    }
   ],
   "source": [
    "atmospheric_CO2_Concentrations_df.info()"
   ]
  },
  {
   "cell_type": "code",
   "execution_count": 18,
   "id": "fadbfd5c-bd7c-4226-94ce-7c381f41b470",
   "metadata": {
    "ExecuteTime": {
     "end_time": "2024-03-08T10:59:13.334369Z",
     "start_time": "2024-03-08T10:59:13.318121Z"
    }
   },
   "outputs": [
    {
     "data": {
      "text/plain": "       ObjectId  ISO2    Value\ncount   1570.00   0.0  1570.00\nmean     785.50   NaN   180.72\nstd      453.36   NaN   180.55\nmin        1.00   NaN    -0.10\n25%      393.25   NaN     0.45\n50%      785.50   NaN   313.83\n75%     1177.75   NaN   355.07\nmax     1570.00   NaN   424.00",
      "text/html": "<div>\n<style scoped>\n    .dataframe tbody tr th:only-of-type {\n        vertical-align: middle;\n    }\n\n    .dataframe tbody tr th {\n        vertical-align: top;\n    }\n\n    .dataframe thead th {\n        text-align: right;\n    }\n</style>\n<table border=\"1\" class=\"dataframe\">\n  <thead>\n    <tr style=\"text-align: right;\">\n      <th></th>\n      <th>ObjectId</th>\n      <th>ISO2</th>\n      <th>Value</th>\n    </tr>\n  </thead>\n  <tbody>\n    <tr>\n      <th>count</th>\n      <td>1570.00</td>\n      <td>0.0</td>\n      <td>1570.00</td>\n    </tr>\n    <tr>\n      <th>mean</th>\n      <td>785.50</td>\n      <td>NaN</td>\n      <td>180.72</td>\n    </tr>\n    <tr>\n      <th>std</th>\n      <td>453.36</td>\n      <td>NaN</td>\n      <td>180.55</td>\n    </tr>\n    <tr>\n      <th>min</th>\n      <td>1.00</td>\n      <td>NaN</td>\n      <td>-0.10</td>\n    </tr>\n    <tr>\n      <th>25%</th>\n      <td>393.25</td>\n      <td>NaN</td>\n      <td>0.45</td>\n    </tr>\n    <tr>\n      <th>50%</th>\n      <td>785.50</td>\n      <td>NaN</td>\n      <td>313.83</td>\n    </tr>\n    <tr>\n      <th>75%</th>\n      <td>1177.75</td>\n      <td>NaN</td>\n      <td>355.07</td>\n    </tr>\n    <tr>\n      <th>max</th>\n      <td>1570.00</td>\n      <td>NaN</td>\n      <td>424.00</td>\n    </tr>\n  </tbody>\n</table>\n</div>"
     },
     "execution_count": 18,
     "metadata": {},
     "output_type": "execute_result"
    }
   ],
   "source": [
    "atmospheric_CO2_Concentrations_df.describe().round(2)"
   ]
  },
  {
   "cell_type": "code",
   "execution_count": 19,
   "id": "c67f688e-f90e-47bd-9cc7-2cce01a71421",
   "metadata": {
    "ExecuteTime": {
     "end_time": "2024-03-08T10:59:14.093093Z",
     "start_time": "2024-03-08T10:59:14.086261Z"
    }
   },
   "outputs": [
    {
     "name": "stdout",
     "output_type": "stream",
     "text": [
      "Unique values in column 'ObjectId': 1570\n",
      "Unique values in column 'Country': 1\n",
      "Unique values in column 'ISO2': 0\n",
      "Unique values in column 'ISO3': 1\n",
      "Unique values in column 'Indicator': 2\n",
      "Unique values in column 'Unit': 2\n",
      "Unique values in column 'Source': 1\n",
      "Unique values in column 'CTS_Code': 1\n",
      "Unique values in column 'CTS_Name': 1\n",
      "Unique values in column 'CTS_Full_Descriptor': 1\n",
      "Unique values in column 'Date': 791\n",
      "Unique values in column 'Value': 868\n"
     ]
    }
   ],
   "source": [
    "checking_unique_value(atmospheric_CO2_Concentrations_df)"
   ]
  },
  {
   "cell_type": "code",
   "outputs": [
    {
     "data": {
      "text/plain": "Index(['ObjectId', 'Country', 'ISO2', 'ISO3', 'Indicator', 'Unit', 'Source',\n       'CTS_Code', 'CTS_Name', 'CTS_Full_Descriptor', 'Date', 'Value'],\n      dtype='object')"
     },
     "execution_count": 20,
     "metadata": {},
     "output_type": "execute_result"
    }
   ],
   "source": [
    "atmospheric_CO2_Concentrations_df.columns"
   ],
   "metadata": {
    "collapsed": false,
    "ExecuteTime": {
     "end_time": "2024-03-08T10:59:14.862992Z",
     "start_time": "2024-03-08T10:59:14.858387Z"
    }
   },
   "id": "c1f453830c944b96",
   "execution_count": 20
  },
  {
   "cell_type": "code",
   "outputs": [],
   "source": [
    "columns_to_drop = ['ObjectId', 'Country', 'ISO2', 'ISO3', 'Indicator', 'Unit', 'Source',\n",
    "       'CTS_Code', 'CTS_Name', 'CTS_Full_Descriptor']"
   ],
   "metadata": {
    "collapsed": false,
    "ExecuteTime": {
     "end_time": "2024-03-08T10:59:16.085451Z",
     "start_time": "2024-03-08T10:59:16.081725Z"
    }
   },
   "id": "7dcd917635037056",
   "execution_count": 21
  },
  {
   "cell_type": "code",
   "outputs": [
    {
     "data": {
      "text/plain": "         Date   Value\n0     1958M03  315.70\n1     1958M04  317.45\n2     1958M05  317.51\n3     1958M06  317.24\n4     1958M07  315.86\n...       ...     ...\n1565  2023M11    0.72\n1566  2023M12  421.86\n1567  2023M12    0.68\n1568  2024M01    0.68\n1569  2024M01    0.68\n\n[1570 rows x 2 columns]",
      "text/html": "<div>\n<style scoped>\n    .dataframe tbody tr th:only-of-type {\n        vertical-align: middle;\n    }\n\n    .dataframe tbody tr th {\n        vertical-align: top;\n    }\n\n    .dataframe thead th {\n        text-align: right;\n    }\n</style>\n<table border=\"1\" class=\"dataframe\">\n  <thead>\n    <tr style=\"text-align: right;\">\n      <th></th>\n      <th>Date</th>\n      <th>Value</th>\n    </tr>\n  </thead>\n  <tbody>\n    <tr>\n      <th>0</th>\n      <td>1958M03</td>\n      <td>315.70</td>\n    </tr>\n    <tr>\n      <th>1</th>\n      <td>1958M04</td>\n      <td>317.45</td>\n    </tr>\n    <tr>\n      <th>2</th>\n      <td>1958M05</td>\n      <td>317.51</td>\n    </tr>\n    <tr>\n      <th>3</th>\n      <td>1958M06</td>\n      <td>317.24</td>\n    </tr>\n    <tr>\n      <th>4</th>\n      <td>1958M07</td>\n      <td>315.86</td>\n    </tr>\n    <tr>\n      <th>...</th>\n      <td>...</td>\n      <td>...</td>\n    </tr>\n    <tr>\n      <th>1565</th>\n      <td>2023M11</td>\n      <td>0.72</td>\n    </tr>\n    <tr>\n      <th>1566</th>\n      <td>2023M12</td>\n      <td>421.86</td>\n    </tr>\n    <tr>\n      <th>1567</th>\n      <td>2023M12</td>\n      <td>0.68</td>\n    </tr>\n    <tr>\n      <th>1568</th>\n      <td>2024M01</td>\n      <td>0.68</td>\n    </tr>\n    <tr>\n      <th>1569</th>\n      <td>2024M01</td>\n      <td>0.68</td>\n    </tr>\n  </tbody>\n</table>\n<p>1570 rows × 2 columns</p>\n</div>"
     },
     "execution_count": 22,
     "metadata": {},
     "output_type": "execute_result"
    }
   ],
   "source": [
    "df = atmospheric_CO2_Concentrations_df.drop(columns=columns_to_drop, axis='columns')\n",
    "df"
   ],
   "metadata": {
    "collapsed": false,
    "ExecuteTime": {
     "end_time": "2024-03-08T10:59:16.551495Z",
     "start_time": "2024-03-08T10:59:16.540656Z"
    }
   },
   "id": "904eff6023c5f926",
   "execution_count": 22
  },
  {
   "cell_type": "markdown",
   "source": [
    "# Identify Missing Values"
   ],
   "metadata": {
    "collapsed": false
   },
   "id": "b4a4d6013c024556"
  },
  {
   "cell_type": "code",
   "outputs": [
    {
     "data": {
      "text/plain": "0"
     },
     "execution_count": 34,
     "metadata": {},
     "output_type": "execute_result"
    }
   ],
   "source": [
    "blank_counts = df.isnull().sum()\n",
    "blank_counts.sum()"
   ],
   "metadata": {
    "collapsed": false,
    "ExecuteTime": {
     "end_time": "2024-03-08T11:07:49.589688Z",
     "start_time": "2024-03-08T11:07:49.583906Z"
    }
   },
   "id": "be3a20e65cbda2c5",
   "execution_count": 34
  },
  {
   "cell_type": "code",
   "outputs": [
    {
     "data": {
      "text/plain": "<Figure size 800x600 with 1 Axes>",
      "image/png": "[encoded data removed]"
     },
     "metadata": {},
     "output_type": "display_data"
    }
   ],
   "source": [
    "\n",
    "x = df['Date']\n",
    "y = df['Value']\n",
    "\n",
    "plt.style.use('_mpl-gallery')\n",
    "\n",
    "x = df['Date']\n",
    "y = df['Value']\n",
    "\n",
    "# Plot\n",
    "plt.figure(figsize=(8, 6))  # Adjust size if needed\n",
    "plt.scatter(x, y)\n",
    "plt.xlabel('Date')\n",
    "plt.ylabel('Value')\n",
    "plt.title('Scatter Plot of Value over Date')\n",
    "plt.grid(True)  # Add gridlines if needed\n",
    "plt.show()"
   ],
   "metadata": {
    "collapsed": false,
    "ExecuteTime": {
     "end_time": "2024-03-08T11:06:25.802157Z",
     "start_time": "2024-03-08T11:06:18.847214Z"
    }
   },
   "id": "fad6c2ea1d5998e7",
   "execution_count": 32
  },
  {
   "cell_type": "code",
   "outputs": [],
   "source": [],
   "metadata": {
    "collapsed": false
   },
   "id": "c068ec96fd885912"
  }
 ],
 "metadata": {
  "kernelspec": {
   "display_name": "Python 3 (ipykernel)",
   "language": "python",
   "name": "python3"
  },
  "language_info": {
   "codemirror_mode": {
    "name": "ipython",
    "version": 3
   },
   "file_extension": ".py",
   "mimetype": "text/x-python",
   "name": "python",
   "nbconvert_exporter": "python",
   "pygments_lexer": "ipython3",
   "version": "3.11.5"
  }
 },
 "nbformat": 4,
 "nbformat_minor": 5
}
